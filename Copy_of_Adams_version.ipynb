{
  "cells": [
    {
      "cell_type": "markdown",
      "metadata": {
        "id": "view-in-github",
        "colab_type": "text"
      },
      "source": [
        "<a href=\"https://colab.research.google.com/github/maryamraozy/TSI/blob/master/Copy_of_Adams_version.ipynb\" target=\"_parent\"><img src=\"https://colab.research.google.com/assets/colab-badge.svg\" alt=\"Open In Colab\"/></a>"
      ]
    },
    {
      "cell_type": "markdown",
      "source": [
        "# Create a copy of this file before editing"
      ],
      "metadata": {
        "id": "wuOaguBXmZzR"
      }
    },
    {
      "cell_type": "markdown",
      "source": [
        "# Data Setup"
      ],
      "metadata": {
        "id": "yDKmYhxJ2565"
      }
    },
    {
      "cell_type": "markdown",
      "source": [
        "**Export Data from Google Analytics**\n",
        "- In Google Analytics, navigate to the *Behaviour* tab, *Site Content* and then *All Pages*\n",
        "- On the table, add \"Previous Page Path* as a Secondary Dimension. The table should now have *Page* and *Previous Page Path* as dimensions.\n",
        "- Filter the table to the pages relevant to your services.\n",
        "- At the top of the page, click on *Export*> *Unsample report* & tick the `Metadata` box.\n",
        "- If the *Unsample report* option is not available due to restricted access, click on *Export*> *CSV*. For this option, ensure that you show the maximum number of rows: **5000**!\n"
      ],
      "metadata": {
        "id": "-V1aDdeFw7Ym"
      }
    },
    {
      "cell_type": "markdown",
      "source": [
        "![Data Template.PNG](data:image/png;base64,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)"
      ],
      "metadata": {
        "id": "DSil96EuYf_M"
      }
    },
    {
      "cell_type": "markdown",
      "source": [
        "**Upload Data to Google Colab**\n",
        "- Click on the *Files* icon on the left menu of Google Colab (i.e. of this document)\n",
        "- If you are in the root directory (i.e. you can see folders like `bin` or `boot`) then navigate to the `content` folder\n",
        "- Click on the *Upload to session storage* icon and select the Google Analytics csv extract from your File Explorer"
      ],
      "metadata": {
        "id": "lLDtqzot19oz"
      }
    },
    {
      "cell_type": "markdown",
      "source": [
        "**Update file name in script**\n",
        "- Update the `filename` variable, so that it is the same as the name of the csv that was just uploaded"
      ],
      "metadata": {
        "id": "stgsg-pj2sct"
      }
    },
    {
      "cell_type": "code",
      "source": [
        "filename = \"/content/MA journey data (ASAD) - sqllab_untitled_query_2_20231016T124327 (2).csv\"\n",
        "service_name = 'MA (from ASAD)'"
      ],
      "metadata": {
        "id": "_a2yZwQb3VZ6"
      },
      "execution_count": null,
      "outputs": []
    },
    {
      "cell_type": "markdown",
      "source": [
        "**Check and/or update the values below to change the figure configuration**"
      ],
      "metadata": {
        "id": "wAnctqsBatf_"
      }
    },
    {
      "cell_type": "code",
      "source": [
        "# Data processing config\n",
        "anonymised_digits = True\n",
        "page_level_1_filter = None\n",
        "page_level_2_filter = None\n",
        "page_level_3_filter = None\n",
        "# Add words into this list that can be used to match urls to remove\n",
        "# Equivalent to dropping rows \" where row like '%word%' \" in sql/asad\n",
        "remove_words = ['delete-answers']\n",
        "# Visualisation format\n",
        "font_size = 10\n",
        "arrow_width_column = \"Unique Page Views\" # Options: [\"Page Views\",  \"Unique Page Views\"]\n",
        "arrow_color_column = \"% Exit\" # Options: [\"Avg. Time on Page\", \"% Exit\"]\n",
        "graph_precision = 90 # Percentage between  and 100. e.g. 80 keeps the top 80% journeys."
      ],
      "metadata": {
        "id": "R_SneRL63uwI"
      },
      "execution_count": null,
      "outputs": []
    },
    {
      "cell_type": "markdown",
      "source": [
        "**Now run the script!**\n",
        "- On the *Runtime* tab, click on *Run all*"
      ],
      "metadata": {
        "id": "aKRtt0Pea5tS"
      }
    },
    {
      "cell_type": "markdown",
      "source": [
        "**Script Output**\n",
        "- The script exports an html file in the session storage menu. Click on *Files* on the left navigation menu to find the file. You might need to click the refresh button. Right click on the file to download it.\n",
        "- If you are in the root directory, you will need to navigate the the content folder.\n",
        "- You can now open the file in any browser to view the interactive visualisation."
      ],
      "metadata": {
        "id": "hb7CjzDXbFo2"
      }
    },
    {
      "cell_type": "markdown",
      "source": [
        "# Script"
      ],
      "metadata": {
        "id": "sd52ra8a3BcK"
      }
    },
    {
      "cell_type": "code",
      "source": [
        "# Functions\n",
        "\n",
        "def filter_for_word(df, col, word):\n",
        "  filter = df[col].str.contains(word)\n",
        "  return df[~filter]\n"
      ],
      "metadata": {
        "id": "LQ0ovy2zIgfY"
      },
      "execution_count": null,
      "outputs": []
    },
    {
      "cell_type": "markdown",
      "metadata": {
        "id": "KcAZ2RHCg_Ze"
      },
      "source": [
        "### Import the packages\n",
        "\n",
        "\n"
      ]
    },
    {
      "cell_type": "code",
      "source": [
        "%%capture\n",
        "# !pip install networkx\n",
        "# !pip install pyvis==0.3.1"
      ],
      "metadata": {
        "id": "0z6LdUwhIrE4"
      },
      "execution_count": null,
      "outputs": []
    },
    {
      "cell_type": "code",
      "source": [
        "import pandas as pd\n",
        "import matplotlib.pyplot as plt\n",
        "import matplotlib\n",
        "import numpy as np\n",
        "from sklearn.preprocessing import MinMaxScaler\n",
        "from pyvis.network import Network\n",
        "import networkx as nx\n",
        "import datetime\n",
        "import re"
      ],
      "metadata": {
        "id": "msRmjRX_JAsb"
      },
      "execution_count": null,
      "outputs": []
    },
    {
      "cell_type": "code",
      "execution_count": null,
      "metadata": {
        "id": "LMNA-vBHPyHz",
        "colab": {
          "base_uri": "https://localhost:8080/"
        },
        "outputId": "7739649f-acbe-463b-ae74-82d420711f09"
      },
      "outputs": [
        {
          "output_type": "stream",
          "name": "stdout",
          "text": [
            "The google.colab.data_table extension is already loaded. To reload it, use:\n",
            "  %reload_ext google.colab.data_table\n"
          ]
        }
      ],
      "source": [
        "# display large pandas dataframes as an interactive data table.\n",
        "%load_ext google.colab.data_table"
      ]
    },
    {
      "cell_type": "markdown",
      "source": [
        "### Load dataframe"
      ],
      "metadata": {
        "id": "jEEpa76c4FcX"
      }
    },
    {
      "cell_type": "code",
      "source": [
        "df = pd.read_csv(filename)\n",
        "df.head()"
      ],
      "metadata": {
        "id": "R_MnTIOF4KIT",
        "colab": {
          "base_uri": "https://localhost:8080/",
          "height": 229
        },
        "outputId": "a1350818-0aa0-43c4-c531-972bc6133ed6"
      },
      "execution_count": null,
      "outputs": [
        {
          "output_type": "execute_result",
          "data": {
            "text/plain": [
              "                                  Previous Page Path  \\\n",
              "0                                         (entrance)   \n",
              "1                                         (entrance)   \n",
              "2  /pay-what-you-owe-in-instalments/calculator/ta...   \n",
              "3  /pay-what-you-owe-in-instalments/calculator/pa...   \n",
              "4                                         (entrance)   \n",
              "\n",
              "                                                Page  Page Views  \\\n",
              "0  /pay-what-you-owe-in-instalments/arrangement/d...       15367   \n",
              "1  /pay-what-you-owe-in-instalments/call-us-debt-...        9651   \n",
              "2  /pay-what-you-owe-in-instalments/calculator/pa...        7478   \n",
              "3  /pay-what-you-owe-in-instalments/calculator/pa...        4472   \n",
              "4  /pay-what-you-owe-in-instalments/calculator/ta...        6066   \n",
              "\n",
              "   Unique Page Views  \n",
              "0              13539  \n",
              "1               8383  \n",
              "2               4696  \n",
              "3               3812  \n",
              "4               3477  "
            ],
            "text/html": [
              "\n",
              "  <div id=\"df-79348caa-e0dd-4829-8444-51a753f68510\" class=\"colab-df-container\">\n",
              "    <div>\n",
              "<style scoped>\n",
              "    .dataframe tbody tr th:only-of-type {\n",
              "        vertical-align: middle;\n",
              "    }\n",
              "\n",
              "    .dataframe tbody tr th {\n",
              "        vertical-align: top;\n",
              "    }\n",
              "\n",
              "    .dataframe thead th {\n",
              "        text-align: right;\n",
              "    }\n",
              "</style>\n",
              "<table border=\"1\" class=\"dataframe\">\n",
              "  <thead>\n",
              "    <tr style=\"text-align: right;\">\n",
              "      <th></th>\n",
              "      <th>Previous Page Path</th>\n",
              "      <th>Page</th>\n",
              "      <th>Page Views</th>\n",
              "      <th>Unique Page Views</th>\n",
              "    </tr>\n",
              "  </thead>\n",
              "  <tbody>\n",
              "    <tr>\n",
              "      <th>0</th>\n",
              "      <td>(entrance)</td>\n",
              "      <td>/pay-what-you-owe-in-instalments/arrangement/d...</td>\n",
              "      <td>15367</td>\n",
              "      <td>13539</td>\n",
              "    </tr>\n",
              "    <tr>\n",
              "      <th>1</th>\n",
              "      <td>(entrance)</td>\n",
              "      <td>/pay-what-you-owe-in-instalments/call-us-debt-...</td>\n",
              "      <td>9651</td>\n",
              "      <td>8383</td>\n",
              "    </tr>\n",
              "    <tr>\n",
              "      <th>2</th>\n",
              "      <td>/pay-what-you-owe-in-instalments/calculator/ta...</td>\n",
              "      <td>/pay-what-you-owe-in-instalments/calculator/pa...</td>\n",
              "      <td>7478</td>\n",
              "      <td>4696</td>\n",
              "    </tr>\n",
              "    <tr>\n",
              "      <th>3</th>\n",
              "      <td>/pay-what-you-owe-in-instalments/calculator/pa...</td>\n",
              "      <td>/pay-what-you-owe-in-instalments/calculator/pa...</td>\n",
              "      <td>4472</td>\n",
              "      <td>3812</td>\n",
              "    </tr>\n",
              "    <tr>\n",
              "      <th>4</th>\n",
              "      <td>(entrance)</td>\n",
              "      <td>/pay-what-you-owe-in-instalments/calculator/ta...</td>\n",
              "      <td>6066</td>\n",
              "      <td>3477</td>\n",
              "    </tr>\n",
              "  </tbody>\n",
              "</table>\n",
              "</div>\n",
              "    <div class=\"colab-df-buttons\">\n",
              "\n",
              "  <div class=\"colab-df-container\">\n",
              "    <button class=\"colab-df-convert\" onclick=\"convertToInteractive('df-79348caa-e0dd-4829-8444-51a753f68510')\"\n",
              "            title=\"Convert this dataframe to an interactive table.\"\n",
              "            style=\"display:none;\">\n",
              "\n",
              "  <svg xmlns=\"http://www.w3.org/2000/svg\" height=\"24px\" viewBox=\"0 -960 960 960\">\n",
              "    <path d=\"M120-120v-720h720v720H120Zm60-500h600v-160H180v160Zm220 220h160v-160H400v160Zm0 220h160v-160H400v160ZM180-400h160v-160H180v160Zm440 0h160v-160H620v160ZM180-180h160v-160H180v160Zm440 0h160v-160H620v160Z\"/>\n",
              "  </svg>\n",
              "    </button>\n",
              "\n",
              "  <style>\n",
              "    .colab-df-container {\n",
              "      display:flex;\n",
              "      gap: 12px;\n",
              "    }\n",
              "\n",
              "    .colab-df-convert {\n",
              "      background-color: #E8F0FE;\n",
              "      border: none;\n",
              "      border-radius: 50%;\n",
              "      cursor: pointer;\n",
              "      display: none;\n",
              "      fill: #1967D2;\n",
              "      height: 32px;\n",
              "      padding: 0 0 0 0;\n",
              "      width: 32px;\n",
              "    }\n",
              "\n",
              "    .colab-df-convert:hover {\n",
              "      background-color: #E2EBFA;\n",
              "      box-shadow: 0px 1px 2px rgba(60, 64, 67, 0.3), 0px 1px 3px 1px rgba(60, 64, 67, 0.15);\n",
              "      fill: #174EA6;\n",
              "    }\n",
              "\n",
              "    .colab-df-buttons div {\n",
              "      margin-bottom: 4px;\n",
              "    }\n",
              "\n",
              "    [theme=dark] .colab-df-convert {\n",
              "      background-color: #3B4455;\n",
              "      fill: #D2E3FC;\n",
              "    }\n",
              "\n",
              "    [theme=dark] .colab-df-convert:hover {\n",
              "      background-color: #434B5C;\n",
              "      box-shadow: 0px 1px 3px 1px rgba(0, 0, 0, 0.15);\n",
              "      filter: drop-shadow(0px 1px 2px rgba(0, 0, 0, 0.3));\n",
              "      fill: #FFFFFF;\n",
              "    }\n",
              "  </style>\n",
              "\n",
              "    <script>\n",
              "      const buttonEl =\n",
              "        document.querySelector('#df-79348caa-e0dd-4829-8444-51a753f68510 button.colab-df-convert');\n",
              "      buttonEl.style.display =\n",
              "        google.colab.kernel.accessAllowed ? 'block' : 'none';\n",
              "\n",
              "      async function convertToInteractive(key) {\n",
              "        const element = document.querySelector('#df-79348caa-e0dd-4829-8444-51a753f68510');\n",
              "        const dataTable =\n",
              "          await google.colab.kernel.invokeFunction('convertToInteractive',\n",
              "                                                    [key], {});\n",
              "        if (!dataTable) return;\n",
              "\n",
              "        const docLinkHtml = 'Like what you see? Visit the ' +\n",
              "          '<a target=\"_blank\" href=https://colab.research.google.com/notebooks/data_table.ipynb>data table notebook</a>'\n",
              "          + ' to learn more about interactive tables.';\n",
              "        element.innerHTML = '';\n",
              "        dataTable['output_type'] = 'display_data';\n",
              "        await google.colab.output.renderOutput(dataTable, element);\n",
              "        const docLink = document.createElement('div');\n",
              "        docLink.innerHTML = docLinkHtml;\n",
              "        element.appendChild(docLink);\n",
              "      }\n",
              "    </script>\n",
              "  </div>\n",
              "\n",
              "\n",
              "<div id=\"df-65cd7004-d761-4810-b25f-187f3d92d2fe\">\n",
              "  <button class=\"colab-df-quickchart\" onclick=\"quickchart('df-65cd7004-d761-4810-b25f-187f3d92d2fe')\"\n",
              "            title=\"Suggest charts.\"\n",
              "            style=\"display:none;\">\n",
              "\n",
              "<svg xmlns=\"http://www.w3.org/2000/svg\" height=\"24px\"viewBox=\"0 0 24 24\"\n",
              "     width=\"24px\">\n",
              "    <g>\n",
              "        <path d=\"M19 3H5c-1.1 0-2 .9-2 2v14c0 1.1.9 2 2 2h14c1.1 0 2-.9 2-2V5c0-1.1-.9-2-2-2zM9 17H7v-7h2v7zm4 0h-2V7h2v10zm4 0h-2v-4h2v4z\"/>\n",
              "    </g>\n",
              "</svg>\n",
              "  </button>\n",
              "\n",
              "<style>\n",
              "  .colab-df-quickchart {\n",
              "      --bg-color: #E8F0FE;\n",
              "      --fill-color: #1967D2;\n",
              "      --hover-bg-color: #E2EBFA;\n",
              "      --hover-fill-color: #174EA6;\n",
              "      --disabled-fill-color: #AAA;\n",
              "      --disabled-bg-color: #DDD;\n",
              "  }\n",
              "\n",
              "  [theme=dark] .colab-df-quickchart {\n",
              "      --bg-color: #3B4455;\n",
              "      --fill-color: #D2E3FC;\n",
              "      --hover-bg-color: #434B5C;\n",
              "      --hover-fill-color: #FFFFFF;\n",
              "      --disabled-bg-color: #3B4455;\n",
              "      --disabled-fill-color: #666;\n",
              "  }\n",
              "\n",
              "  .colab-df-quickchart {\n",
              "    background-color: var(--bg-color);\n",
              "    border: none;\n",
              "    border-radius: 50%;\n",
              "    cursor: pointer;\n",
              "    display: none;\n",
              "    fill: var(--fill-color);\n",
              "    height: 32px;\n",
              "    padding: 0;\n",
              "    width: 32px;\n",
              "  }\n",
              "\n",
              "  .colab-df-quickchart:hover {\n",
              "    background-color: var(--hover-bg-color);\n",
              "    box-shadow: 0 1px 2px rgba(60, 64, 67, 0.3), 0 1px 3px 1px rgba(60, 64, 67, 0.15);\n",
              "    fill: var(--button-hover-fill-color);\n",
              "  }\n",
              "\n",
              "  .colab-df-quickchart-complete:disabled,\n",
              "  .colab-df-quickchart-complete:disabled:hover {\n",
              "    background-color: var(--disabled-bg-color);\n",
              "    fill: var(--disabled-fill-color);\n",
              "    box-shadow: none;\n",
              "  }\n",
              "\n",
              "  .colab-df-spinner {\n",
              "    border: 2px solid var(--fill-color);\n",
              "    border-color: transparent;\n",
              "    border-bottom-color: var(--fill-color);\n",
              "    animation:\n",
              "      spin 1s steps(1) infinite;\n",
              "  }\n",
              "\n",
              "  @keyframes spin {\n",
              "    0% {\n",
              "      border-color: transparent;\n",
              "      border-bottom-color: var(--fill-color);\n",
              "      border-left-color: var(--fill-color);\n",
              "    }\n",
              "    20% {\n",
              "      border-color: transparent;\n",
              "      border-left-color: var(--fill-color);\n",
              "      border-top-color: var(--fill-color);\n",
              "    }\n",
              "    30% {\n",
              "      border-color: transparent;\n",
              "      border-left-color: var(--fill-color);\n",
              "      border-top-color: var(--fill-color);\n",
              "      border-right-color: var(--fill-color);\n",
              "    }\n",
              "    40% {\n",
              "      border-color: transparent;\n",
              "      border-right-color: var(--fill-color);\n",
              "      border-top-color: var(--fill-color);\n",
              "    }\n",
              "    60% {\n",
              "      border-color: transparent;\n",
              "      border-right-color: var(--fill-color);\n",
              "    }\n",
              "    80% {\n",
              "      border-color: transparent;\n",
              "      border-right-color: var(--fill-color);\n",
              "      border-bottom-color: var(--fill-color);\n",
              "    }\n",
              "    90% {\n",
              "      border-color: transparent;\n",
              "      border-bottom-color: var(--fill-color);\n",
              "    }\n",
              "  }\n",
              "</style>\n",
              "\n",
              "  <script>\n",
              "    async function quickchart(key) {\n",
              "      const quickchartButtonEl =\n",
              "        document.querySelector('#' + key + ' button');\n",
              "      quickchartButtonEl.disabled = true;  // To prevent multiple clicks.\n",
              "      quickchartButtonEl.classList.add('colab-df-spinner');\n",
              "      try {\n",
              "        const charts = await google.colab.kernel.invokeFunction(\n",
              "            'suggestCharts', [key], {});\n",
              "      } catch (error) {\n",
              "        console.error('Error during call to suggestCharts:', error);\n",
              "      }\n",
              "      quickchartButtonEl.classList.remove('colab-df-spinner');\n",
              "      quickchartButtonEl.classList.add('colab-df-quickchart-complete');\n",
              "    }\n",
              "    (() => {\n",
              "      let quickchartButtonEl =\n",
              "        document.querySelector('#df-65cd7004-d761-4810-b25f-187f3d92d2fe button');\n",
              "      quickchartButtonEl.style.display =\n",
              "        google.colab.kernel.accessAllowed ? 'block' : 'none';\n",
              "    })();\n",
              "  </script>\n",
              "</div>\n",
              "    </div>\n",
              "  </div>\n"
            ],
            "application/vnd.google.colaboratory.module+javascript": "\n      import \"https://ssl.gstatic.com/colaboratory/data_table/881c4a0d49046431/data_table.js\";\n\n      const table = window.createDataTable({\n        data: [[{\n            'v': 0,\n            'f': \"0\",\n        },\n\"(entrance)\",\n\"/pay-what-you-owe-in-instalments/arrangement/determine-eligibility\",\n{\n            'v': 15367,\n            'f': \"15367\",\n        },\n{\n            'v': 13539,\n            'f': \"13539\",\n        }],\n [{\n            'v': 1,\n            'f': \"1\",\n        },\n\"(entrance)\",\n\"/pay-what-you-owe-in-instalments/call-us-debt-too-old\",\n{\n            'v': 9651,\n            'f': \"9651\",\n        },\n{\n            'v': 8383,\n            'f': \"8383\",\n        }],\n [{\n            'v': 2,\n            'f': \"2\",\n        },\n\"/pay-what-you-owe-in-instalments/calculator/tax-liabilities\",\n\"/pay-what-you-owe-in-instalments/calculator/payment-today-question\",\n{\n            'v': 7478,\n            'f': \"7478\",\n        },\n{\n            'v': 4696,\n            'f': \"4696\",\n        }],\n [{\n            'v': 3,\n            'f': \"3\",\n        },\n\"/pay-what-you-owe-in-instalments/calculator/payment-today-question\",\n\"/pay-what-you-owe-in-instalments/calculator/payment-today-question\",\n{\n            'v': 4472,\n            'f': \"4472\",\n        },\n{\n            'v': 3812,\n            'f': \"3812\",\n        }],\n [{\n            'v': 4,\n            'f': \"4\",\n        },\n\"(entrance)\",\n\"/pay-what-you-owe-in-instalments/calculator/tax-liabilities\",\n{\n            'v': 6066,\n            'f': \"6066\",\n        },\n{\n            'v': 3477,\n            'f': \"3477\",\n        }]],\n        columns: [[\"number\", \"index\"], [\"string\", \"Previous Page Path\"], [\"string\", \"Page\"], [\"number\", \"Page Views\"], [\"number\", \"Unique Page Views\"]],\n        columnOptions: [{\"width\": \"1px\", \"className\": \"index_column\"}],\n        rowsPerPage: 25,\n        helpUrl: \"https://colab.research.google.com/notebooks/data_table.ipynb\",\n        suppressOutputScrolling: true,\n        minimumWidth: undefined,\n      });\n\n      function appendQuickchartButton(parentElement) {\n        let quickchartButtonContainerElement = document.createElement('div');\n        quickchartButtonContainerElement.innerHTML = `\n<div id=\"df-9e8189d5-a4cf-4614-9184-39666d59fda7\">\n  <button class=\"colab-df-quickchart\" onclick=\"quickchart('df-9e8189d5-a4cf-4614-9184-39666d59fda7')\"\n            title=\"Suggest charts.\"\n            style=\"display:none;\">\n    \n<svg xmlns=\"http://www.w3.org/2000/svg\" height=\"24px\"viewBox=\"0 0 24 24\"\n     width=\"24px\">\n    <g>\n        <path d=\"M19 3H5c-1.1 0-2 .9-2 2v14c0 1.1.9 2 2 2h14c1.1 0 2-.9 2-2V5c0-1.1-.9-2-2-2zM9 17H7v-7h2v7zm4 0h-2V7h2v10zm4 0h-2v-4h2v4z\"/>\n    </g>\n</svg>\n  </button>\n  \n<style>\n  .colab-df-quickchart {\n      --bg-color: #E8F0FE;\n      --fill-color: #1967D2;\n      --hover-bg-color: #E2EBFA;\n      --hover-fill-color: #174EA6;\n      --disabled-fill-color: #AAA;\n      --disabled-bg-color: #DDD;\n  }\n\n  [theme=dark] .colab-df-quickchart {\n      --bg-color: #3B4455;\n      --fill-color: #D2E3FC;\n      --hover-bg-color: #434B5C;\n      --hover-fill-color: #FFFFFF;\n      --disabled-bg-color: #3B4455;\n      --disabled-fill-color: #666;\n  }\n\n  .colab-df-quickchart {\n    background-color: var(--bg-color);\n    border: none;\n    border-radius: 50%;\n    cursor: pointer;\n    display: none;\n    fill: var(--fill-color);\n    height: 32px;\n    padding: 0;\n    width: 32px;\n  }\n\n  .colab-df-quickchart:hover {\n    background-color: var(--hover-bg-color);\n    box-shadow: 0 1px 2px rgba(60, 64, 67, 0.3), 0 1px 3px 1px rgba(60, 64, 67, 0.15);\n    fill: var(--button-hover-fill-color);\n  }\n\n  .colab-df-quickchart-complete:disabled,\n  .colab-df-quickchart-complete:disabled:hover {\n    background-color: var(--disabled-bg-color);\n    fill: var(--disabled-fill-color);\n    box-shadow: none;\n  }\n\n  .colab-df-spinner {\n    border: 2px solid var(--fill-color);\n    border-color: transparent;\n    border-bottom-color: var(--fill-color);\n    animation:\n      spin 1s steps(1) infinite;\n  }\n\n  @keyframes spin {\n    0% {\n      border-color: transparent;\n      border-bottom-color: var(--fill-color);\n      border-left-color: var(--fill-color);\n    }\n    20% {\n      border-color: transparent;\n      border-left-color: var(--fill-color);\n      border-top-color: var(--fill-color);\n    }\n    30% {\n      border-color: transparent;\n      border-left-color: var(--fill-color);\n      border-top-color: var(--fill-color);\n      border-right-color: var(--fill-color);\n    }\n    40% {\n      border-color: transparent;\n      border-right-color: var(--fill-color);\n      border-top-color: var(--fill-color);\n    }\n    60% {\n      border-color: transparent;\n      border-right-color: var(--fill-color);\n    }\n    80% {\n      border-color: transparent;\n      border-right-color: var(--fill-color);\n      border-bottom-color: var(--fill-color);\n    }\n    90% {\n      border-color: transparent;\n      border-bottom-color: var(--fill-color);\n    }\n  }\n</style>\n\n  <script>\n    async function quickchart(key) {\n      const quickchartButtonEl =\n        document.querySelector('#' + key + ' button');\n      quickchartButtonEl.disabled = true;  // To prevent multiple clicks.\n      quickchartButtonEl.classList.add('colab-df-spinner');\n      try {\n        const charts = await google.colab.kernel.invokeFunction(\n            'suggestCharts', [key], {});\n      } catch (error) {\n        console.error('Error during call to suggestCharts:', error);\n      }\n      quickchartButtonEl.classList.remove('colab-df-spinner');\n      quickchartButtonEl.classList.add('colab-df-quickchart-complete');\n    }\n    (() => {\n      let quickchartButtonEl =\n        document.querySelector('#df-9e8189d5-a4cf-4614-9184-39666d59fda7 button');\n      quickchartButtonEl.style.display =\n        google.colab.kernel.accessAllowed ? 'block' : 'none';\n    })();\n  </script>\n</div>`;\n        parentElement.appendChild(quickchartButtonContainerElement);\n      }\n\n      appendQuickchartButton(table);\n    "
          },
          "metadata": {},
          "execution_count": 127
        }
      ]
    },
    {
      "cell_type": "markdown",
      "source": [
        "Clean the data"
      ],
      "metadata": {
        "id": "eHmPbDPmyRs9"
      }
    },
    {
      "cell_type": "code",
      "source": [
        "df.dropna(inplace=True)\n",
        "df['Page'] = df['Page'].str.replace('\\?(.*)', '', regex=True)\n",
        "df['Previous Page Path'] = df['Previous Page Path'].str.replace('\\?(.*)', '', regex=True)\n",
        "for word in remove_words:\n",
        "  for page in ['Page', 'Previous Page Path']:\n",
        "    df = filter_for_word(df, page, word)\n"
      ],
      "metadata": {
        "id": "PZXqDqYAyQzQ"
      },
      "execution_count": null,
      "outputs": []
    },
    {
      "cell_type": "markdown",
      "source": [],
      "metadata": {
        "id": "0Ti_WxyIJ5M0"
      }
    },
    {
      "cell_type": "markdown",
      "metadata": {
        "id": "Bu2C7iWMKtAM"
      },
      "source": [
        "### Describe the data\n"
      ]
    },
    {
      "cell_type": "code",
      "execution_count": null,
      "metadata": {
        "id": "XrFmZBr9KtAN",
        "colab": {
          "base_uri": "https://localhost:8080/",
          "height": 229
        },
        "outputId": "18434ae7-9032-43a6-e416-e0777919871c"
      },
      "outputs": [
        {
          "output_type": "execute_result",
          "data": {
            "text/plain": [
              "                                  Previous Page Path  \\\n",
              "0                                         (entrance)   \n",
              "1                                         (entrance)   \n",
              "2  /pay-what-you-owe-in-instalments/calculator/ta...   \n",
              "3  /pay-what-you-owe-in-instalments/calculator/pa...   \n",
              "4                                         (entrance)   \n",
              "\n",
              "                                                Page  Page Views  \\\n",
              "0  /pay-what-you-owe-in-instalments/arrangement/d...       15367   \n",
              "1  /pay-what-you-owe-in-instalments/call-us-debt-...        9651   \n",
              "2  /pay-what-you-owe-in-instalments/calculator/pa...        7478   \n",
              "3  /pay-what-you-owe-in-instalments/calculator/pa...        4472   \n",
              "4  /pay-what-you-owe-in-instalments/calculator/ta...        6066   \n",
              "\n",
              "   Unique Page Views  \n",
              "0              13539  \n",
              "1               8383  \n",
              "2               4696  \n",
              "3               3812  \n",
              "4               3477  "
            ],
            "text/html": [
              "\n",
              "  <div id=\"df-4ca9e8f4-0890-4150-83c4-43687a79771d\" class=\"colab-df-container\">\n",
              "    <div>\n",
              "<style scoped>\n",
              "    .dataframe tbody tr th:only-of-type {\n",
              "        vertical-align: middle;\n",
              "    }\n",
              "\n",
              "    .dataframe tbody tr th {\n",
              "        vertical-align: top;\n",
              "    }\n",
              "\n",
              "    .dataframe thead th {\n",
              "        text-align: right;\n",
              "    }\n",
              "</style>\n",
              "<table border=\"1\" class=\"dataframe\">\n",
              "  <thead>\n",
              "    <tr style=\"text-align: right;\">\n",
              "      <th></th>\n",
              "      <th>Previous Page Path</th>\n",
              "      <th>Page</th>\n",
              "      <th>Page Views</th>\n",
              "      <th>Unique Page Views</th>\n",
              "    </tr>\n",
              "  </thead>\n",
              "  <tbody>\n",
              "    <tr>\n",
              "      <th>0</th>\n",
              "      <td>(entrance)</td>\n",
              "      <td>/pay-what-you-owe-in-instalments/arrangement/d...</td>\n",
              "      <td>15367</td>\n",
              "      <td>13539</td>\n",
              "    </tr>\n",
              "    <tr>\n",
              "      <th>1</th>\n",
              "      <td>(entrance)</td>\n",
              "      <td>/pay-what-you-owe-in-instalments/call-us-debt-...</td>\n",
              "      <td>9651</td>\n",
              "      <td>8383</td>\n",
              "    </tr>\n",
              "    <tr>\n",
              "      <th>2</th>\n",
              "      <td>/pay-what-you-owe-in-instalments/calculator/ta...</td>\n",
              "      <td>/pay-what-you-owe-in-instalments/calculator/pa...</td>\n",
              "      <td>7478</td>\n",
              "      <td>4696</td>\n",
              "    </tr>\n",
              "    <tr>\n",
              "      <th>3</th>\n",
              "      <td>/pay-what-you-owe-in-instalments/calculator/pa...</td>\n",
              "      <td>/pay-what-you-owe-in-instalments/calculator/pa...</td>\n",
              "      <td>4472</td>\n",
              "      <td>3812</td>\n",
              "    </tr>\n",
              "    <tr>\n",
              "      <th>4</th>\n",
              "      <td>(entrance)</td>\n",
              "      <td>/pay-what-you-owe-in-instalments/calculator/ta...</td>\n",
              "      <td>6066</td>\n",
              "      <td>3477</td>\n",
              "    </tr>\n",
              "  </tbody>\n",
              "</table>\n",
              "</div>\n",
              "    <div class=\"colab-df-buttons\">\n",
              "\n",
              "  <div class=\"colab-df-container\">\n",
              "    <button class=\"colab-df-convert\" onclick=\"convertToInteractive('df-4ca9e8f4-0890-4150-83c4-43687a79771d')\"\n",
              "            title=\"Convert this dataframe to an interactive table.\"\n",
              "            style=\"display:none;\">\n",
              "\n",
              "  <svg xmlns=\"http://www.w3.org/2000/svg\" height=\"24px\" viewBox=\"0 -960 960 960\">\n",
              "    <path d=\"M120-120v-720h720v720H120Zm60-500h600v-160H180v160Zm220 220h160v-160H400v160Zm0 220h160v-160H400v160ZM180-400h160v-160H180v160Zm440 0h160v-160H620v160ZM180-180h160v-160H180v160Zm440 0h160v-160H620v160Z\"/>\n",
              "  </svg>\n",
              "    </button>\n",
              "\n",
              "  <style>\n",
              "    .colab-df-container {\n",
              "      display:flex;\n",
              "      gap: 12px;\n",
              "    }\n",
              "\n",
              "    .colab-df-convert {\n",
              "      background-color: #E8F0FE;\n",
              "      border: none;\n",
              "      border-radius: 50%;\n",
              "      cursor: pointer;\n",
              "      display: none;\n",
              "      fill: #1967D2;\n",
              "      height: 32px;\n",
              "      padding: 0 0 0 0;\n",
              "      width: 32px;\n",
              "    }\n",
              "\n",
              "    .colab-df-convert:hover {\n",
              "      background-color: #E2EBFA;\n",
              "      box-shadow: 0px 1px 2px rgba(60, 64, 67, 0.3), 0px 1px 3px 1px rgba(60, 64, 67, 0.15);\n",
              "      fill: #174EA6;\n",
              "    }\n",
              "\n",
              "    .colab-df-buttons div {\n",
              "      margin-bottom: 4px;\n",
              "    }\n",
              "\n",
              "    [theme=dark] .colab-df-convert {\n",
              "      background-color: #3B4455;\n",
              "      fill: #D2E3FC;\n",
              "    }\n",
              "\n",
              "    [theme=dark] .colab-df-convert:hover {\n",
              "      background-color: #434B5C;\n",
              "      box-shadow: 0px 1px 3px 1px rgba(0, 0, 0, 0.15);\n",
              "      filter: drop-shadow(0px 1px 2px rgba(0, 0, 0, 0.3));\n",
              "      fill: #FFFFFF;\n",
              "    }\n",
              "  </style>\n",
              "\n",
              "    <script>\n",
              "      const buttonEl =\n",
              "        document.querySelector('#df-4ca9e8f4-0890-4150-83c4-43687a79771d button.colab-df-convert');\n",
              "      buttonEl.style.display =\n",
              "        google.colab.kernel.accessAllowed ? 'block' : 'none';\n",
              "\n",
              "      async function convertToInteractive(key) {\n",
              "        const element = document.querySelector('#df-4ca9e8f4-0890-4150-83c4-43687a79771d');\n",
              "        const dataTable =\n",
              "          await google.colab.kernel.invokeFunction('convertToInteractive',\n",
              "                                                    [key], {});\n",
              "        if (!dataTable) return;\n",
              "\n",
              "        const docLinkHtml = 'Like what you see? Visit the ' +\n",
              "          '<a target=\"_blank\" href=https://colab.research.google.com/notebooks/data_table.ipynb>data table notebook</a>'\n",
              "          + ' to learn more about interactive tables.';\n",
              "        element.innerHTML = '';\n",
              "        dataTable['output_type'] = 'display_data';\n",
              "        await google.colab.output.renderOutput(dataTable, element);\n",
              "        const docLink = document.createElement('div');\n",
              "        docLink.innerHTML = docLinkHtml;\n",
              "        element.appendChild(docLink);\n",
              "      }\n",
              "    </script>\n",
              "  </div>\n",
              "\n",
              "\n",
              "<div id=\"df-93288d71-b7c3-45ce-bea0-57c435849713\">\n",
              "  <button class=\"colab-df-quickchart\" onclick=\"quickchart('df-93288d71-b7c3-45ce-bea0-57c435849713')\"\n",
              "            title=\"Suggest charts.\"\n",
              "            style=\"display:none;\">\n",
              "\n",
              "<svg xmlns=\"http://www.w3.org/2000/svg\" height=\"24px\"viewBox=\"0 0 24 24\"\n",
              "     width=\"24px\">\n",
              "    <g>\n",
              "        <path d=\"M19 3H5c-1.1 0-2 .9-2 2v14c0 1.1.9 2 2 2h14c1.1 0 2-.9 2-2V5c0-1.1-.9-2-2-2zM9 17H7v-7h2v7zm4 0h-2V7h2v10zm4 0h-2v-4h2v4z\"/>\n",
              "    </g>\n",
              "</svg>\n",
              "  </button>\n",
              "\n",
              "<style>\n",
              "  .colab-df-quickchart {\n",
              "      --bg-color: #E8F0FE;\n",
              "      --fill-color: #1967D2;\n",
              "      --hover-bg-color: #E2EBFA;\n",
              "      --hover-fill-color: #174EA6;\n",
              "      --disabled-fill-color: #AAA;\n",
              "      --disabled-bg-color: #DDD;\n",
              "  }\n",
              "\n",
              "  [theme=dark] .colab-df-quickchart {\n",
              "      --bg-color: #3B4455;\n",
              "      --fill-color: #D2E3FC;\n",
              "      --hover-bg-color: #434B5C;\n",
              "      --hover-fill-color: #FFFFFF;\n",
              "      --disabled-bg-color: #3B4455;\n",
              "      --disabled-fill-color: #666;\n",
              "  }\n",
              "\n",
              "  .colab-df-quickchart {\n",
              "    background-color: var(--bg-color);\n",
              "    border: none;\n",
              "    border-radius: 50%;\n",
              "    cursor: pointer;\n",
              "    display: none;\n",
              "    fill: var(--fill-color);\n",
              "    height: 32px;\n",
              "    padding: 0;\n",
              "    width: 32px;\n",
              "  }\n",
              "\n",
              "  .colab-df-quickchart:hover {\n",
              "    background-color: var(--hover-bg-color);\n",
              "    box-shadow: 0 1px 2px rgba(60, 64, 67, 0.3), 0 1px 3px 1px rgba(60, 64, 67, 0.15);\n",
              "    fill: var(--button-hover-fill-color);\n",
              "  }\n",
              "\n",
              "  .colab-df-quickchart-complete:disabled,\n",
              "  .colab-df-quickchart-complete:disabled:hover {\n",
              "    background-color: var(--disabled-bg-color);\n",
              "    fill: var(--disabled-fill-color);\n",
              "    box-shadow: none;\n",
              "  }\n",
              "\n",
              "  .colab-df-spinner {\n",
              "    border: 2px solid var(--fill-color);\n",
              "    border-color: transparent;\n",
              "    border-bottom-color: var(--fill-color);\n",
              "    animation:\n",
              "      spin 1s steps(1) infinite;\n",
              "  }\n",
              "\n",
              "  @keyframes spin {\n",
              "    0% {\n",
              "      border-color: transparent;\n",
              "      border-bottom-color: var(--fill-color);\n",
              "      border-left-color: var(--fill-color);\n",
              "    }\n",
              "    20% {\n",
              "      border-color: transparent;\n",
              "      border-left-color: var(--fill-color);\n",
              "      border-top-color: var(--fill-color);\n",
              "    }\n",
              "    30% {\n",
              "      border-color: transparent;\n",
              "      border-left-color: var(--fill-color);\n",
              "      border-top-color: var(--fill-color);\n",
              "      border-right-color: var(--fill-color);\n",
              "    }\n",
              "    40% {\n",
              "      border-color: transparent;\n",
              "      border-right-color: var(--fill-color);\n",
              "      border-top-color: var(--fill-color);\n",
              "    }\n",
              "    60% {\n",
              "      border-color: transparent;\n",
              "      border-right-color: var(--fill-color);\n",
              "    }\n",
              "    80% {\n",
              "      border-color: transparent;\n",
              "      border-right-color: var(--fill-color);\n",
              "      border-bottom-color: var(--fill-color);\n",
              "    }\n",
              "    90% {\n",
              "      border-color: transparent;\n",
              "      border-bottom-color: var(--fill-color);\n",
              "    }\n",
              "  }\n",
              "</style>\n",
              "\n",
              "  <script>\n",
              "    async function quickchart(key) {\n",
              "      const quickchartButtonEl =\n",
              "        document.querySelector('#' + key + ' button');\n",
              "      quickchartButtonEl.disabled = true;  // To prevent multiple clicks.\n",
              "      quickchartButtonEl.classList.add('colab-df-spinner');\n",
              "      try {\n",
              "        const charts = await google.colab.kernel.invokeFunction(\n",
              "            'suggestCharts', [key], {});\n",
              "      } catch (error) {\n",
              "        console.error('Error during call to suggestCharts:', error);\n",
              "      }\n",
              "      quickchartButtonEl.classList.remove('colab-df-spinner');\n",
              "      quickchartButtonEl.classList.add('colab-df-quickchart-complete');\n",
              "    }\n",
              "    (() => {\n",
              "      let quickchartButtonEl =\n",
              "        document.querySelector('#df-93288d71-b7c3-45ce-bea0-57c435849713 button');\n",
              "      quickchartButtonEl.style.display =\n",
              "        google.colab.kernel.accessAllowed ? 'block' : 'none';\n",
              "    })();\n",
              "  </script>\n",
              "</div>\n",
              "    </div>\n",
              "  </div>\n"
            ],
            "application/vnd.google.colaboratory.module+javascript": "\n      import \"https://ssl.gstatic.com/colaboratory/data_table/881c4a0d49046431/data_table.js\";\n\n      const table = window.createDataTable({\n        data: [[{\n            'v': 0,\n            'f': \"0\",\n        },\n\"(entrance)\",\n\"/pay-what-you-owe-in-instalments/arrangement/determine-eligibility\",\n{\n            'v': 15367,\n            'f': \"15367\",\n        },\n{\n            'v': 13539,\n            'f': \"13539\",\n        }],\n [{\n            'v': 1,\n            'f': \"1\",\n        },\n\"(entrance)\",\n\"/pay-what-you-owe-in-instalments/call-us-debt-too-old\",\n{\n            'v': 9651,\n            'f': \"9651\",\n        },\n{\n            'v': 8383,\n            'f': \"8383\",\n        }],\n [{\n            'v': 2,\n            'f': \"2\",\n        },\n\"/pay-what-you-owe-in-instalments/calculator/tax-liabilities\",\n\"/pay-what-you-owe-in-instalments/calculator/payment-today-question\",\n{\n            'v': 7478,\n            'f': \"7478\",\n        },\n{\n            'v': 4696,\n            'f': \"4696\",\n        }],\n [{\n            'v': 3,\n            'f': \"3\",\n        },\n\"/pay-what-you-owe-in-instalments/calculator/payment-today-question\",\n\"/pay-what-you-owe-in-instalments/calculator/payment-today-question\",\n{\n            'v': 4472,\n            'f': \"4472\",\n        },\n{\n            'v': 3812,\n            'f': \"3812\",\n        }],\n [{\n            'v': 4,\n            'f': \"4\",\n        },\n\"(entrance)\",\n\"/pay-what-you-owe-in-instalments/calculator/tax-liabilities\",\n{\n            'v': 6066,\n            'f': \"6066\",\n        },\n{\n            'v': 3477,\n            'f': \"3477\",\n        }]],\n        columns: [[\"number\", \"index\"], [\"string\", \"Previous Page Path\"], [\"string\", \"Page\"], [\"number\", \"Page Views\"], [\"number\", \"Unique Page Views\"]],\n        columnOptions: [{\"width\": \"1px\", \"className\": \"index_column\"}],\n        rowsPerPage: 25,\n        helpUrl: \"https://colab.research.google.com/notebooks/data_table.ipynb\",\n        suppressOutputScrolling: true,\n        minimumWidth: undefined,\n      });\n\n      function appendQuickchartButton(parentElement) {\n        let quickchartButtonContainerElement = document.createElement('div');\n        quickchartButtonContainerElement.innerHTML = `\n<div id=\"df-691bcb72-6827-4880-bf1b-4a93a7d9aa02\">\n  <button class=\"colab-df-quickchart\" onclick=\"quickchart('df-691bcb72-6827-4880-bf1b-4a93a7d9aa02')\"\n            title=\"Suggest charts.\"\n            style=\"display:none;\">\n    \n<svg xmlns=\"http://www.w3.org/2000/svg\" height=\"24px\"viewBox=\"0 0 24 24\"\n     width=\"24px\">\n    <g>\n        <path d=\"M19 3H5c-1.1 0-2 .9-2 2v14c0 1.1.9 2 2 2h14c1.1 0 2-.9 2-2V5c0-1.1-.9-2-2-2zM9 17H7v-7h2v7zm4 0h-2V7h2v10zm4 0h-2v-4h2v4z\"/>\n    </g>\n</svg>\n  </button>\n  \n<style>\n  .colab-df-quickchart {\n      --bg-color: #E8F0FE;\n      --fill-color: #1967D2;\n      --hover-bg-color: #E2EBFA;\n      --hover-fill-color: #174EA6;\n      --disabled-fill-color: #AAA;\n      --disabled-bg-color: #DDD;\n  }\n\n  [theme=dark] .colab-df-quickchart {\n      --bg-color: #3B4455;\n      --fill-color: #D2E3FC;\n      --hover-bg-color: #434B5C;\n      --hover-fill-color: #FFFFFF;\n      --disabled-bg-color: #3B4455;\n      --disabled-fill-color: #666;\n  }\n\n  .colab-df-quickchart {\n    background-color: var(--bg-color);\n    border: none;\n    border-radius: 50%;\n    cursor: pointer;\n    display: none;\n    fill: var(--fill-color);\n    height: 32px;\n    padding: 0;\n    width: 32px;\n  }\n\n  .colab-df-quickchart:hover {\n    background-color: var(--hover-bg-color);\n    box-shadow: 0 1px 2px rgba(60, 64, 67, 0.3), 0 1px 3px 1px rgba(60, 64, 67, 0.15);\n    fill: var(--button-hover-fill-color);\n  }\n\n  .colab-df-quickchart-complete:disabled,\n  .colab-df-quickchart-complete:disabled:hover {\n    background-color: var(--disabled-bg-color);\n    fill: var(--disabled-fill-color);\n    box-shadow: none;\n  }\n\n  .colab-df-spinner {\n    border: 2px solid var(--fill-color);\n    border-color: transparent;\n    border-bottom-color: var(--fill-color);\n    animation:\n      spin 1s steps(1) infinite;\n  }\n\n  @keyframes spin {\n    0% {\n      border-color: transparent;\n      border-bottom-color: var(--fill-color);\n      border-left-color: var(--fill-color);\n    }\n    20% {\n      border-color: transparent;\n      border-left-color: var(--fill-color);\n      border-top-color: var(--fill-color);\n    }\n    30% {\n      border-color: transparent;\n      border-left-color: var(--fill-color);\n      border-top-color: var(--fill-color);\n      border-right-color: var(--fill-color);\n    }\n    40% {\n      border-color: transparent;\n      border-right-color: var(--fill-color);\n      border-top-color: var(--fill-color);\n    }\n    60% {\n      border-color: transparent;\n      border-right-color: var(--fill-color);\n    }\n    80% {\n      border-color: transparent;\n      border-right-color: var(--fill-color);\n      border-bottom-color: var(--fill-color);\n    }\n    90% {\n      border-color: transparent;\n      border-bottom-color: var(--fill-color);\n    }\n  }\n</style>\n\n  <script>\n    async function quickchart(key) {\n      const quickchartButtonEl =\n        document.querySelector('#' + key + ' button');\n      quickchartButtonEl.disabled = true;  // To prevent multiple clicks.\n      quickchartButtonEl.classList.add('colab-df-spinner');\n      try {\n        const charts = await google.colab.kernel.invokeFunction(\n            'suggestCharts', [key], {});\n      } catch (error) {\n        console.error('Error during call to suggestCharts:', error);\n      }\n      quickchartButtonEl.classList.remove('colab-df-spinner');\n      quickchartButtonEl.classList.add('colab-df-quickchart-complete');\n    }\n    (() => {\n      let quickchartButtonEl =\n        document.querySelector('#df-691bcb72-6827-4880-bf1b-4a93a7d9aa02 button');\n      quickchartButtonEl.style.display =\n        google.colab.kernel.accessAllowed ? 'block' : 'none';\n    })();\n  </script>\n</div>`;\n        parentElement.appendChild(quickchartButtonContainerElement);\n      }\n\n      appendQuickchartButton(table);\n    "
          },
          "metadata": {},
          "execution_count": 129
        }
      ],
      "source": [
        "df.head()"
      ]
    },
    {
      "cell_type": "code",
      "source": [
        "df.describe()"
      ],
      "metadata": {
        "id": "9cPBS0N65kOq",
        "colab": {
          "base_uri": "https://localhost:8080/",
          "height": 294
        },
        "outputId": "ad9fe478-24b7-429e-94a9-252abb69108b"
      },
      "execution_count": null,
      "outputs": [
        {
          "output_type": "execute_result",
          "data": {
            "text/plain": [
              "         Page Views  Unique Page Views\n",
              "count    160.000000         160.000000\n",
              "mean     686.793750         493.887500\n",
              "std     1819.614957        1442.533446\n",
              "min        1.000000           1.000000\n",
              "25%        3.000000           2.750000\n",
              "50%       18.500000          15.500000\n",
              "75%      467.750000         335.750000\n",
              "max    15367.000000       13539.000000"
            ],
            "text/html": [
              "\n",
              "  <div id=\"df-89c046e4-e20c-4e22-b96e-5bc4b18927bc\" class=\"colab-df-container\">\n",
              "    <div>\n",
              "<style scoped>\n",
              "    .dataframe tbody tr th:only-of-type {\n",
              "        vertical-align: middle;\n",
              "    }\n",
              "\n",
              "    .dataframe tbody tr th {\n",
              "        vertical-align: top;\n",
              "    }\n",
              "\n",
              "    .dataframe thead th {\n",
              "        text-align: right;\n",
              "    }\n",
              "</style>\n",
              "<table border=\"1\" class=\"dataframe\">\n",
              "  <thead>\n",
              "    <tr style=\"text-align: right;\">\n",
              "      <th></th>\n",
              "      <th>Page Views</th>\n",
              "      <th>Unique Page Views</th>\n",
              "    </tr>\n",
              "  </thead>\n",
              "  <tbody>\n",
              "    <tr>\n",
              "      <th>count</th>\n",
              "      <td>160.000000</td>\n",
              "      <td>160.000000</td>\n",
              "    </tr>\n",
              "    <tr>\n",
              "      <th>mean</th>\n",
              "      <td>686.793750</td>\n",
              "      <td>493.887500</td>\n",
              "    </tr>\n",
              "    <tr>\n",
              "      <th>std</th>\n",
              "      <td>1819.614957</td>\n",
              "      <td>1442.533446</td>\n",
              "    </tr>\n",
              "    <tr>\n",
              "      <th>min</th>\n",
              "      <td>1.000000</td>\n",
              "      <td>1.000000</td>\n",
              "    </tr>\n",
              "    <tr>\n",
              "      <th>25%</th>\n",
              "      <td>3.000000</td>\n",
              "      <td>2.750000</td>\n",
              "    </tr>\n",
              "    <tr>\n",
              "      <th>50%</th>\n",
              "      <td>18.500000</td>\n",
              "      <td>15.500000</td>\n",
              "    </tr>\n",
              "    <tr>\n",
              "      <th>75%</th>\n",
              "      <td>467.750000</td>\n",
              "      <td>335.750000</td>\n",
              "    </tr>\n",
              "    <tr>\n",
              "      <th>max</th>\n",
              "      <td>15367.000000</td>\n",
              "      <td>13539.000000</td>\n",
              "    </tr>\n",
              "  </tbody>\n",
              "</table>\n",
              "</div>\n",
              "    <div class=\"colab-df-buttons\">\n",
              "\n",
              "  <div class=\"colab-df-container\">\n",
              "    <button class=\"colab-df-convert\" onclick=\"convertToInteractive('df-89c046e4-e20c-4e22-b96e-5bc4b18927bc')\"\n",
              "            title=\"Convert this dataframe to an interactive table.\"\n",
              "            style=\"display:none;\">\n",
              "\n",
              "  <svg xmlns=\"http://www.w3.org/2000/svg\" height=\"24px\" viewBox=\"0 -960 960 960\">\n",
              "    <path d=\"M120-120v-720h720v720H120Zm60-500h600v-160H180v160Zm220 220h160v-160H400v160Zm0 220h160v-160H400v160ZM180-400h160v-160H180v160Zm440 0h160v-160H620v160ZM180-180h160v-160H180v160Zm440 0h160v-160H620v160Z\"/>\n",
              "  </svg>\n",
              "    </button>\n",
              "\n",
              "  <style>\n",
              "    .colab-df-container {\n",
              "      display:flex;\n",
              "      gap: 12px;\n",
              "    }\n",
              "\n",
              "    .colab-df-convert {\n",
              "      background-color: #E8F0FE;\n",
              "      border: none;\n",
              "      border-radius: 50%;\n",
              "      cursor: pointer;\n",
              "      display: none;\n",
              "      fill: #1967D2;\n",
              "      height: 32px;\n",
              "      padding: 0 0 0 0;\n",
              "      width: 32px;\n",
              "    }\n",
              "\n",
              "    .colab-df-convert:hover {\n",
              "      background-color: #E2EBFA;\n",
              "      box-shadow: 0px 1px 2px rgba(60, 64, 67, 0.3), 0px 1px 3px 1px rgba(60, 64, 67, 0.15);\n",
              "      fill: #174EA6;\n",
              "    }\n",
              "\n",
              "    .colab-df-buttons div {\n",
              "      margin-bottom: 4px;\n",
              "    }\n",
              "\n",
              "    [theme=dark] .colab-df-convert {\n",
              "      background-color: #3B4455;\n",
              "      fill: #D2E3FC;\n",
              "    }\n",
              "\n",
              "    [theme=dark] .colab-df-convert:hover {\n",
              "      background-color: #434B5C;\n",
              "      box-shadow: 0px 1px 3px 1px rgba(0, 0, 0, 0.15);\n",
              "      filter: drop-shadow(0px 1px 2px rgba(0, 0, 0, 0.3));\n",
              "      fill: #FFFFFF;\n",
              "    }\n",
              "  </style>\n",
              "\n",
              "    <script>\n",
              "      const buttonEl =\n",
              "        document.querySelector('#df-89c046e4-e20c-4e22-b96e-5bc4b18927bc button.colab-df-convert');\n",
              "      buttonEl.style.display =\n",
              "        google.colab.kernel.accessAllowed ? 'block' : 'none';\n",
              "\n",
              "      async function convertToInteractive(key) {\n",
              "        const element = document.querySelector('#df-89c046e4-e20c-4e22-b96e-5bc4b18927bc');\n",
              "        const dataTable =\n",
              "          await google.colab.kernel.invokeFunction('convertToInteractive',\n",
              "                                                    [key], {});\n",
              "        if (!dataTable) return;\n",
              "\n",
              "        const docLinkHtml = 'Like what you see? Visit the ' +\n",
              "          '<a target=\"_blank\" href=https://colab.research.google.com/notebooks/data_table.ipynb>data table notebook</a>'\n",
              "          + ' to learn more about interactive tables.';\n",
              "        element.innerHTML = '';\n",
              "        dataTable['output_type'] = 'display_data';\n",
              "        await google.colab.output.renderOutput(dataTable, element);\n",
              "        const docLink = document.createElement('div');\n",
              "        docLink.innerHTML = docLinkHtml;\n",
              "        element.appendChild(docLink);\n",
              "      }\n",
              "    </script>\n",
              "  </div>\n",
              "\n",
              "\n",
              "<div id=\"df-9dce3a38-c613-45b4-b6a2-efb5c3c21101\">\n",
              "  <button class=\"colab-df-quickchart\" onclick=\"quickchart('df-9dce3a38-c613-45b4-b6a2-efb5c3c21101')\"\n",
              "            title=\"Suggest charts.\"\n",
              "            style=\"display:none;\">\n",
              "\n",
              "<svg xmlns=\"http://www.w3.org/2000/svg\" height=\"24px\"viewBox=\"0 0 24 24\"\n",
              "     width=\"24px\">\n",
              "    <g>\n",
              "        <path d=\"M19 3H5c-1.1 0-2 .9-2 2v14c0 1.1.9 2 2 2h14c1.1 0 2-.9 2-2V5c0-1.1-.9-2-2-2zM9 17H7v-7h2v7zm4 0h-2V7h2v10zm4 0h-2v-4h2v4z\"/>\n",
              "    </g>\n",
              "</svg>\n",
              "  </button>\n",
              "\n",
              "<style>\n",
              "  .colab-df-quickchart {\n",
              "      --bg-color: #E8F0FE;\n",
              "      --fill-color: #1967D2;\n",
              "      --hover-bg-color: #E2EBFA;\n",
              "      --hover-fill-color: #174EA6;\n",
              "      --disabled-fill-color: #AAA;\n",
              "      --disabled-bg-color: #DDD;\n",
              "  }\n",
              "\n",
              "  [theme=dark] .colab-df-quickchart {\n",
              "      --bg-color: #3B4455;\n",
              "      --fill-color: #D2E3FC;\n",
              "      --hover-bg-color: #434B5C;\n",
              "      --hover-fill-color: #FFFFFF;\n",
              "      --disabled-bg-color: #3B4455;\n",
              "      --disabled-fill-color: #666;\n",
              "  }\n",
              "\n",
              "  .colab-df-quickchart {\n",
              "    background-color: var(--bg-color);\n",
              "    border: none;\n",
              "    border-radius: 50%;\n",
              "    cursor: pointer;\n",
              "    display: none;\n",
              "    fill: var(--fill-color);\n",
              "    height: 32px;\n",
              "    padding: 0;\n",
              "    width: 32px;\n",
              "  }\n",
              "\n",
              "  .colab-df-quickchart:hover {\n",
              "    background-color: var(--hover-bg-color);\n",
              "    box-shadow: 0 1px 2px rgba(60, 64, 67, 0.3), 0 1px 3px 1px rgba(60, 64, 67, 0.15);\n",
              "    fill: var(--button-hover-fill-color);\n",
              "  }\n",
              "\n",
              "  .colab-df-quickchart-complete:disabled,\n",
              "  .colab-df-quickchart-complete:disabled:hover {\n",
              "    background-color: var(--disabled-bg-color);\n",
              "    fill: var(--disabled-fill-color);\n",
              "    box-shadow: none;\n",
              "  }\n",
              "\n",
              "  .colab-df-spinner {\n",
              "    border: 2px solid var(--fill-color);\n",
              "    border-color: transparent;\n",
              "    border-bottom-color: var(--fill-color);\n",
              "    animation:\n",
              "      spin 1s steps(1) infinite;\n",
              "  }\n",
              "\n",
              "  @keyframes spin {\n",
              "    0% {\n",
              "      border-color: transparent;\n",
              "      border-bottom-color: var(--fill-color);\n",
              "      border-left-color: var(--fill-color);\n",
              "    }\n",
              "    20% {\n",
              "      border-color: transparent;\n",
              "      border-left-color: var(--fill-color);\n",
              "      border-top-color: var(--fill-color);\n",
              "    }\n",
              "    30% {\n",
              "      border-color: transparent;\n",
              "      border-left-color: var(--fill-color);\n",
              "      border-top-color: var(--fill-color);\n",
              "      border-right-color: var(--fill-color);\n",
              "    }\n",
              "    40% {\n",
              "      border-color: transparent;\n",
              "      border-right-color: var(--fill-color);\n",
              "      border-top-color: var(--fill-color);\n",
              "    }\n",
              "    60% {\n",
              "      border-color: transparent;\n",
              "      border-right-color: var(--fill-color);\n",
              "    }\n",
              "    80% {\n",
              "      border-color: transparent;\n",
              "      border-right-color: var(--fill-color);\n",
              "      border-bottom-color: var(--fill-color);\n",
              "    }\n",
              "    90% {\n",
              "      border-color: transparent;\n",
              "      border-bottom-color: var(--fill-color);\n",
              "    }\n",
              "  }\n",
              "</style>\n",
              "\n",
              "  <script>\n",
              "    async function quickchart(key) {\n",
              "      const quickchartButtonEl =\n",
              "        document.querySelector('#' + key + ' button');\n",
              "      quickchartButtonEl.disabled = true;  // To prevent multiple clicks.\n",
              "      quickchartButtonEl.classList.add('colab-df-spinner');\n",
              "      try {\n",
              "        const charts = await google.colab.kernel.invokeFunction(\n",
              "            'suggestCharts', [key], {});\n",
              "      } catch (error) {\n",
              "        console.error('Error during call to suggestCharts:', error);\n",
              "      }\n",
              "      quickchartButtonEl.classList.remove('colab-df-spinner');\n",
              "      quickchartButtonEl.classList.add('colab-df-quickchart-complete');\n",
              "    }\n",
              "    (() => {\n",
              "      let quickchartButtonEl =\n",
              "        document.querySelector('#df-9dce3a38-c613-45b4-b6a2-efb5c3c21101 button');\n",
              "      quickchartButtonEl.style.display =\n",
              "        google.colab.kernel.accessAllowed ? 'block' : 'none';\n",
              "    })();\n",
              "  </script>\n",
              "</div>\n",
              "    </div>\n",
              "  </div>\n"
            ],
            "application/vnd.google.colaboratory.module+javascript": "\n      import \"https://ssl.gstatic.com/colaboratory/data_table/881c4a0d49046431/data_table.js\";\n\n      const table = window.createDataTable({\n        data: [[\"count\",\n{\n            'v': 160.0,\n            'f': \"160.0\",\n        },\n{\n            'v': 160.0,\n            'f': \"160.0\",\n        }],\n [\"mean\",\n{\n            'v': 686.79375,\n            'f': \"686.79375\",\n        },\n{\n            'v': 493.8875,\n            'f': \"493.8875\",\n        }],\n [\"std\",\n{\n            'v': 1819.6149571855913,\n            'f': \"1819.6149571855913\",\n        },\n{\n            'v': 1442.533445706245,\n            'f': \"1442.533445706245\",\n        }],\n [\"min\",\n{\n            'v': 1.0,\n            'f': \"1.0\",\n        },\n{\n            'v': 1.0,\n            'f': \"1.0\",\n        }],\n [\"25%\",\n{\n            'v': 3.0,\n            'f': \"3.0\",\n        },\n{\n            'v': 2.75,\n            'f': \"2.75\",\n        }],\n [\"50%\",\n{\n            'v': 18.5,\n            'f': \"18.5\",\n        },\n{\n            'v': 15.5,\n            'f': \"15.5\",\n        }],\n [\"75%\",\n{\n            'v': 467.75,\n            'f': \"467.75\",\n        },\n{\n            'v': 335.75,\n            'f': \"335.75\",\n        }],\n [\"max\",\n{\n            'v': 15367.0,\n            'f': \"15367.0\",\n        },\n{\n            'v': 13539.0,\n            'f': \"13539.0\",\n        }]],\n        columns: [[\"string\", \"index\"], [\"number\", \"Page Views\"], [\"number\", \"Unique Page Views\"]],\n        columnOptions: [{\"width\": \"1px\", \"className\": \"index_column\"}],\n        rowsPerPage: 25,\n        helpUrl: \"https://colab.research.google.com/notebooks/data_table.ipynb\",\n        suppressOutputScrolling: true,\n        minimumWidth: undefined,\n      });\n\n      function appendQuickchartButton(parentElement) {\n        let quickchartButtonContainerElement = document.createElement('div');\n        quickchartButtonContainerElement.innerHTML = `\n<div id=\"df-6967e19d-8f14-4241-89a2-b6f26ef9a7cb\">\n  <button class=\"colab-df-quickchart\" onclick=\"quickchart('df-6967e19d-8f14-4241-89a2-b6f26ef9a7cb')\"\n            title=\"Suggest charts.\"\n            style=\"display:none;\">\n    \n<svg xmlns=\"http://www.w3.org/2000/svg\" height=\"24px\"viewBox=\"0 0 24 24\"\n     width=\"24px\">\n    <g>\n        <path d=\"M19 3H5c-1.1 0-2 .9-2 2v14c0 1.1.9 2 2 2h14c1.1 0 2-.9 2-2V5c0-1.1-.9-2-2-2zM9 17H7v-7h2v7zm4 0h-2V7h2v10zm4 0h-2v-4h2v4z\"/>\n    </g>\n</svg>\n  </button>\n  \n<style>\n  .colab-df-quickchart {\n      --bg-color: #E8F0FE;\n      --fill-color: #1967D2;\n      --hover-bg-color: #E2EBFA;\n      --hover-fill-color: #174EA6;\n      --disabled-fill-color: #AAA;\n      --disabled-bg-color: #DDD;\n  }\n\n  [theme=dark] .colab-df-quickchart {\n      --bg-color: #3B4455;\n      --fill-color: #D2E3FC;\n      --hover-bg-color: #434B5C;\n      --hover-fill-color: #FFFFFF;\n      --disabled-bg-color: #3B4455;\n      --disabled-fill-color: #666;\n  }\n\n  .colab-df-quickchart {\n    background-color: var(--bg-color);\n    border: none;\n    border-radius: 50%;\n    cursor: pointer;\n    display: none;\n    fill: var(--fill-color);\n    height: 32px;\n    padding: 0;\n    width: 32px;\n  }\n\n  .colab-df-quickchart:hover {\n    background-color: var(--hover-bg-color);\n    box-shadow: 0 1px 2px rgba(60, 64, 67, 0.3), 0 1px 3px 1px rgba(60, 64, 67, 0.15);\n    fill: var(--button-hover-fill-color);\n  }\n\n  .colab-df-quickchart-complete:disabled,\n  .colab-df-quickchart-complete:disabled:hover {\n    background-color: var(--disabled-bg-color);\n    fill: var(--disabled-fill-color);\n    box-shadow: none;\n  }\n\n  .colab-df-spinner {\n    border: 2px solid var(--fill-color);\n    border-color: transparent;\n    border-bottom-color: var(--fill-color);\n    animation:\n      spin 1s steps(1) infinite;\n  }\n\n  @keyframes spin {\n    0% {\n      border-color: transparent;\n      border-bottom-color: var(--fill-color);\n      border-left-color: var(--fill-color);\n    }\n    20% {\n      border-color: transparent;\n      border-left-color: var(--fill-color);\n      border-top-color: var(--fill-color);\n    }\n    30% {\n      border-color: transparent;\n      border-left-color: var(--fill-color);\n      border-top-color: var(--fill-color);\n      border-right-color: var(--fill-color);\n    }\n    40% {\n      border-color: transparent;\n      border-right-color: var(--fill-color);\n      border-top-color: var(--fill-color);\n    }\n    60% {\n      border-color: transparent;\n      border-right-color: var(--fill-color);\n    }\n    80% {\n      border-color: transparent;\n      border-right-color: var(--fill-color);\n      border-bottom-color: var(--fill-color);\n    }\n    90% {\n      border-color: transparent;\n      border-bottom-color: var(--fill-color);\n    }\n  }\n</style>\n\n  <script>\n    async function quickchart(key) {\n      const quickchartButtonEl =\n        document.querySelector('#' + key + ' button');\n      quickchartButtonEl.disabled = true;  // To prevent multiple clicks.\n      quickchartButtonEl.classList.add('colab-df-spinner');\n      try {\n        const charts = await google.colab.kernel.invokeFunction(\n            'suggestCharts', [key], {});\n      } catch (error) {\n        console.error('Error during call to suggestCharts:', error);\n      }\n      quickchartButtonEl.classList.remove('colab-df-spinner');\n      quickchartButtonEl.classList.add('colab-df-quickchart-complete');\n    }\n    (() => {\n      let quickchartButtonEl =\n        document.querySelector('#df-6967e19d-8f14-4241-89a2-b6f26ef9a7cb button');\n      quickchartButtonEl.style.display =\n        google.colab.kernel.accessAllowed ? 'block' : 'none';\n    })();\n  </script>\n</div>`;\n        parentElement.appendChild(quickchartButtonContainerElement);\n      }\n\n      appendQuickchartButton(table);\n    "
          },
          "metadata": {},
          "execution_count": 130
        }
      ]
    },
    {
      "cell_type": "markdown",
      "source": [
        "### Format the data"
      ],
      "metadata": {
        "id": "cdvAAH2GP5Dg"
      }
    },
    {
      "cell_type": "markdown",
      "source": [
        "**Get page levels**"
      ],
      "metadata": {
        "id": "bFrqvrNK6pAc"
      }
    },
    {
      "cell_type": "code",
      "source": [
        "# Page levels\n",
        "page_levels = df[\"Page\"].str.split(\"/\", expand=True)\n",
        "page_levels.columns = [f\"Page level {col}\" for col in page_levels.columns]\n",
        "df = df.join(page_levels)"
      ],
      "metadata": {
        "id": "1CkFdPCX6lnM"
      },
      "execution_count": null,
      "outputs": []
    },
    {
      "cell_type": "code",
      "source": [
        "print(page_levels['Page level 1'].unique())"
      ],
      "metadata": {
        "id": "57NuyUWAhnKT",
        "colab": {
          "base_uri": "https://localhost:8080/"
        },
        "outputId": "eb5dee90-64ba-4305-a4ae-c2b8d942d41a"
      },
      "execution_count": null,
      "outputs": [
        {
          "output_type": "stream",
          "name": "stdout",
          "text": [
            "['pay-what-you-owe-in-instalments']\n"
          ]
        }
      ]
    },
    {
      "cell_type": "code",
      "source": [
        "# Previous Page levels\n",
        "page_levels = df[\"Previous Page Path\"].str.split(\"/\", expand=True)\n",
        "page_levels.columns = [f\"Previous Page Path level {col}\" for col in page_levels.columns]\n",
        "df = df.join(page_levels)"
      ],
      "metadata": {
        "id": "HHzczeWJ6xVW"
      },
      "execution_count": null,
      "outputs": []
    },
    {
      "cell_type": "code",
      "source": [
        "print(df.columns)"
      ],
      "metadata": {
        "id": "vK6igYuHhQFe",
        "colab": {
          "base_uri": "https://localhost:8080/"
        },
        "outputId": "b651efa9-c1f2-4a5d-c85e-45df3f84967b"
      },
      "execution_count": null,
      "outputs": [
        {
          "output_type": "stream",
          "name": "stdout",
          "text": [
            "Index(['Previous Page Path', 'Page', 'Page Views', 'Unique Page Views',\n",
            "       'Page level 0', 'Page level 1', 'Page level 2', 'Page level 3',\n",
            "       'Page level 4', 'Previous Page Path level 0',\n",
            "       'Previous Page Path level 1', 'Previous Page Path level 2',\n",
            "       'Previous Page Path level 3', 'Previous Page Path level 4'],\n",
            "      dtype='object')\n"
          ]
        }
      ]
    },
    {
      "cell_type": "markdown",
      "source": [
        "**Anonymise digits & add breaks**"
      ],
      "metadata": {
        "id": "iEzJf36F8U31"
      }
    },
    {
      "cell_type": "code",
      "source": [
        "for col in [\"Page\", \"Previous Page Path\"]:\n",
        "    df[col] = df[col].str.replace(\"/\", \"/\\n\")\n",
        "    if anonymised_digits:\n",
        "      df[col] = df[col].str.replace(\"[0-9]\", \"X\", regex=True)"
      ],
      "metadata": {
        "id": "HJZnSREGPz6M"
      },
      "execution_count": null,
      "outputs": []
    },
    {
      "cell_type": "markdown",
      "source": [
        "**Convert values to integers**"
      ],
      "metadata": {
        "id": "d7h0NO6iBJX-"
      }
    },
    {
      "cell_type": "code",
      "source": [
        "for col in [\"Page Views\",  \"Unique Page Views\"]:\n",
        "  if df[col].dtype == object:\n",
        "    df[col] = df[col].str.replace(\",\", \"\").astype(int)"
      ],
      "metadata": {
        "id": "5FBd55eTBO1Z"
      },
      "execution_count": null,
      "outputs": []
    },
    {
      "cell_type": "markdown",
      "source": [
        "**Convert percentage strings to float**\n"
      ],
      "metadata": {
        "id": "b2pF2wBYCAot"
      }
    },
    {
      "cell_type": "code",
      "source": [],
      "metadata": {
        "id": "6fRB06W_YKSH"
      },
      "execution_count": null,
      "outputs": []
    },
    {
      "cell_type": "code",
      "source": [
        "# for col in [\"% Exit\"]:\n",
        "#   if df[col].dtype == object:\n",
        "#     df[col] = df[col].str.replace(\"%\", \"\").astype(float)/100"
      ],
      "metadata": {
        "id": "Csg-5sIPB_6t"
      },
      "execution_count": null,
      "outputs": []
    },
    {
      "cell_type": "markdown",
      "source": [
        "**Convert time string to duration in seconds**"
      ],
      "metadata": {
        "id": "EXR3mFwgCi_G"
      }
    },
    {
      "cell_type": "code",
      "source": [
        "# if df[\"Avg. Time on Page\"].dtype == object:\n",
        "#   time = pd.to_datetime(df[\"Avg. Time on Page\"],format= '%H:%M:%S' )\n",
        "#   df[\"Avg. Time on Page\"] = time.dt.second+time.dt.minute*60+time.dt.hour*3600"
      ],
      "metadata": {
        "id": "J7teg1jSCd9g"
      },
      "execution_count": null,
      "outputs": []
    },
    {
      "cell_type": "markdown",
      "source": [
        "### Filter the data"
      ],
      "metadata": {
        "id": "Jmk7x8gv6T1a"
      }
    },
    {
      "cell_type": "markdown",
      "source": [
        "**On page level input**"
      ],
      "metadata": {
        "id": "ox0R_DqfUrmA"
      }
    },
    {
      "cell_type": "code",
      "source": [
        "data = df.copy()\n",
        "for i in np.arange(1,4):\n",
        "  filter = eval(f\"page_level_{i}_filter\")\n",
        "  if filter is not None:\n",
        "    data = data[data[f\"Page level {i}\"]==filter].copy()\n",
        "    print(f\"Data was filtered on `Page level {i}={filter}`\")\n",
        "    print(f\"Initial row count:{len(df)}\")\n",
        "    print(f\"Result row count:{len(data)}\")\n",
        "  else:\n",
        "    pass\n",
        "    print(f\"Keeping all data in `Page level {i}`\")"
      ],
      "metadata": {
        "id": "xTQYA_r66Qa3",
        "colab": {
          "base_uri": "https://localhost:8080/"
        },
        "outputId": "fd3d4b19-3d4f-435d-c947-54e3e1f8582a"
      },
      "execution_count": null,
      "outputs": [
        {
          "output_type": "stream",
          "name": "stdout",
          "text": [
            "Keeping all data in `Page level 1`\n",
            "Keeping all data in `Page level 2`\n",
            "Keeping all data in `Page level 3`\n"
          ]
        }
      ]
    },
    {
      "cell_type": "code",
      "source": [
        "data[\"Page\"]"
      ],
      "metadata": {
        "id": "7YEmpRV7zNJm",
        "colab": {
          "base_uri": "https://localhost:8080/"
        },
        "outputId": "99d45917-74c8-416f-dff1-d021e64c6ac4"
      },
      "execution_count": null,
      "outputs": [
        {
          "output_type": "execute_result",
          "data": {
            "text/plain": [
              "0      /\\npay-what-you-owe-in-instalments/\\narrangeme...\n",
              "1      /\\npay-what-you-owe-in-instalments/\\ncall-us-d...\n",
              "2      /\\npay-what-you-owe-in-instalments/\\ncalculato...\n",
              "3      /\\npay-what-you-owe-in-instalments/\\ncalculato...\n",
              "4      /\\npay-what-you-owe-in-instalments/\\ncalculato...\n",
              "                             ...                        \n",
              "155                   /\\npay-what-you-owe-in-instalments\n",
              "156    /\\npay-what-you-owe-in-instalments/\\nhmrc-fron...\n",
              "157    /\\npay-what-you-owe-in-instalments/\\narrangeme...\n",
              "158    /\\npay-what-you-owe-in-instalments/\\ncall-us-d...\n",
              "159    /\\npay-what-you-owe-in-instalments/\\nhmrc-fron...\n",
              "Name: Page, Length: 160, dtype: object"
            ]
          },
          "metadata": {},
          "execution_count": 140
        }
      ]
    },
    {
      "cell_type": "code",
      "source": [
        "data[\"Page\"].str.replace(\"XXXXXXXXR[A-Z]{1}\",\"XXXXXXXXRX\" ,regex=True).iloc[6]"
      ],
      "metadata": {
        "id": "iIdqXzmazej6",
        "colab": {
          "base_uri": "https://localhost:8080/",
          "height": 35
        },
        "outputId": "51530feb-7300-4914-b748-0f88c0329cc6"
      },
      "execution_count": null,
      "outputs": [
        {
          "output_type": "execute_result",
          "data": {
            "text/plain": [
              "'/\\npay-what-you-owe-in-instalments/\\narrangement/\\ninstalment-summary/\\nselect-date'"
            ],
            "application/vnd.google.colaboratory.intrinsic+json": {
              "type": "string"
            }
          },
          "metadata": {},
          "execution_count": 141
        }
      ]
    },
    {
      "cell_type": "code",
      "source": [
        "# Anonimise ids\n",
        "data[\"Page\"] = data[\"Page\"].str.replace(\"XXXXXXXXR[A-Z]{1}\",\"XXXXXXXXRX\" ,regex=True)\n",
        "data[\"Previous Page Path\"] = data[\"Previous Page Path\"].str.replace(\"XXXXXXXXR[A-Z]{1}\",\"XXXXXXXXRX\" ,regex=True)\n",
        "\n",
        "#recalculate % exit\n",
        "# data[\"Exits\"] = data[\"Page Views\"]*data[\"% Exit\"]\n",
        "# data = data.groupby(['Previous Page Path', 'Page'], as_index=\"False\").agg({\n",
        "#     \"Page Views\":\"sum\",\n",
        "#     \"Unique Page Views\":\"sum\",\n",
        "#     \"Exits\":\"sum\"\n",
        "#     })\n",
        "# data[\"% Exit\"] = data[\"Exits\"]/data[\"Page Views\"]\n",
        "data.reset_index(inplace=True)"
      ],
      "metadata": {
        "id": "lRrbK0ziz_wb"
      },
      "execution_count": null,
      "outputs": []
    },
    {
      "cell_type": "markdown",
      "source": [
        "**Exclude low volume journeys**"
      ],
      "metadata": {
        "id": "MOxip13BUwsp"
      }
    },
    {
      "cell_type": "code",
      "source": [
        "data.sort_values(by=\"Page Views\", ascending=False, inplace=True)\n",
        "cumsum = data[\"Page Views\"].cumsum()/data[\"Page Views\"].sum()\n",
        "data_sliced = data[cumsum<=graph_precision/100].copy()\n",
        "print(f\"Initial row count:{len(data)}\")\n",
        "print(f\"Result row count:{len(data_sliced)}\")"
      ],
      "metadata": {
        "id": "aWUiFRJKUkce",
        "colab": {
          "base_uri": "https://localhost:8080/"
        },
        "outputId": "73e4b1de-d583-473a-f477-63cbd3e7970e"
      },
      "execution_count": null,
      "outputs": [
        {
          "output_type": "stream",
          "name": "stdout",
          "text": [
            "Initial row count:160\n",
            "Result row count:29\n"
          ]
        }
      ]
    },
    {
      "cell_type": "markdown",
      "source": [
        "# Create Pyvis Graph"
      ],
      "metadata": {
        "id": "gA3XrN5QQvfW"
      }
    },
    {
      "cell_type": "markdown",
      "source": [
        "**Create colormap (RAG)**"
      ],
      "metadata": {
        "id": "d_yYzwKCUau1"
      }
    },
    {
      "cell_type": "code",
      "source": [
        "cmap = matplotlib.colors.LinearSegmentedColormap.from_list(\n",
        "    name=\"\",\n",
        "    colors=[(0, (0.0, 0.5019607843137255, 0.0)),\n",
        "            (0.3, (1.0, 0.996078431372549, 0.0)), (1, (1.0, 0.0, 0.0))],\n",
        "    N=256,\n",
        "    gamma=1)"
      ],
      "metadata": {
        "id": "_KFDG1D_UZxA"
      },
      "execution_count": null,
      "outputs": []
    },
    {
      "cell_type": "markdown",
      "source": [
        "**Create NetworkX graph**"
      ],
      "metadata": {
        "id": "CNUUapK9UYS_"
      }
    },
    {
      "cell_type": "code",
      "source": [
        "G = nx.from_pandas_edgelist(\n",
        "    data_sliced,\n",
        "    source='Previous Page Path',\n",
        "    target='Page',\n",
        "    edge_attr=[arrow_width_column],\n",
        "    create_using=nx.DiGraph)"
      ],
      "metadata": {
        "id": "wb8CvzzhRDVr"
      },
      "execution_count": null,
      "outputs": []
    },
    {
      "cell_type": "markdown",
      "source": [
        "**Add nodes and edges to PyVis Network**"
      ],
      "metadata": {
        "id": "hsac8NNaRQQn"
      }
    },
    {
      "cell_type": "code",
      "source": [
        "nt = Network(height='1000px', width='900px', directed=True, notebook=False)"
      ],
      "metadata": {
        "id": "ssAXvlbrRNhj"
      },
      "execution_count": null,
      "outputs": []
    },
    {
      "cell_type": "code",
      "source": [
        "node_list = list(G.nodes())\n",
        "nt.add_nodes(node_list, title=node_list)"
      ],
      "metadata": {
        "id": "NKzoBtcLRSgC"
      },
      "execution_count": null,
      "outputs": []
    },
    {
      "cell_type": "code",
      "source": [
        "# Normalise width and color edge values\n",
        "norm_width = matplotlib.colors.Normalize(\n",
        "    vmin=data_sliced[arrow_width_column].min(),\n",
        "    vmax=data_sliced[arrow_width_column].max())\n",
        "# norm_color = matplotlib.colors.Normalize(\n",
        "#     vmin=data_sliced[arrow_color_column].min(),\n",
        "#     vmax=data_sliced[arrow_color_column].max())\n",
        "\n",
        "# Add edges with color and width values\n",
        "for edge in G.edges(data=True):\n",
        "    source, target, attributes = edge\n",
        "    width = norm_width(attributes[arrow_width_column])\n",
        "    # color_value = round(norm_color(attributes[arrow_color_column]) * 256)\n",
        "    # color_string = f\"rgb{tuple([c*256 for c in cmap(color_value)])}\"\n",
        "    title = f\"{arrow_width_column}: {attributes[arrow_width_column]}\"\n",
        "    nt.add_edge(source, target, value=width, title=title)"
      ],
      "metadata": {
        "id": "ZRPZ4dCuRTx5"
      },
      "execution_count": null,
      "outputs": []
    },
    {
      "cell_type": "code",
      "source": [
        "print(len(nt.nodes))\n",
        "print(len(nt.edges))"
      ],
      "metadata": {
        "id": "E16Xmk0jRg5x",
        "colab": {
          "base_uri": "https://localhost:8080/"
        },
        "outputId": "6e873aac-cf83-43d3-a02c-dc10107a7886"
      },
      "execution_count": null,
      "outputs": [
        {
          "output_type": "stream",
          "name": "stdout",
          "text": [
            "20\n",
            "0\n"
          ]
        }
      ]
    },
    {
      "cell_type": "code",
      "source": [
        "nt.set_edge_smooth(\"dynamic\")"
      ],
      "metadata": {
        "id": "4EUQgSfaRjPv"
      },
      "execution_count": null,
      "outputs": []
    },
    {
      "cell_type": "code",
      "source": [
        "nt.set_options(\n",
        "f\"\"\"var options = {{\n",
        "  \"nodes\": {{\n",
        "    \"font\": {{\n",
        "        \"size\":{font_size}\n",
        "        }}\n",
        "    }},\n",
        "  \"physics\": {{\n",
        "    \"barnesHut\": {{\n",
        "      \"gravitationalConstant\": -15000,\n",
        "      \"springLength\": 85,\n",
        "      \"springConstant\": 0.155\n",
        "    }},\n",
        "    \"maxVelocity\": 50,\n",
        "    \"minVelocity\": 0.75\n",
        "  }}\n",
        "}}\n",
        "\"\"\")"
      ],
      "metadata": {
        "id": "xalvYp4TRkPu"
      },
      "execution_count": null,
      "outputs": []
    },
    {
      "cell_type": "code",
      "source": [
        "\n",
        "nt.show(f\"{service_name}-journey-{graph_precision}%.html\")\n",
        "print(f\"Graph exported on: {datetime.datetime.now()}\")"
      ],
      "metadata": {
        "id": "hip8B7VrRlrZ",
        "colab": {
          "base_uri": "https://localhost:8080/"
        },
        "outputId": "863d4000-a26b-4175-f2fb-8759f9cdee5b"
      },
      "execution_count": null,
      "outputs": [
        {
          "output_type": "stream",
          "name": "stdout",
          "text": [
            "Graph exported on: 2023-10-16 13:04:37.122227\n"
          ]
        }
      ]
    },
    {
      "cell_type": "code",
      "source": [],
      "metadata": {
        "id": "QZlDhKdr3x-7"
      },
      "execution_count": null,
      "outputs": []
    }
  ],
  "metadata": {
    "colab": {
      "provenance": [],
      "toc_visible": true,
      "include_colab_link": true
    },
    "kernelspec": {
      "display_name": "Python 3",
      "name": "python3"
    }
  },
  "nbformat": 4,
  "nbformat_minor": 0
}